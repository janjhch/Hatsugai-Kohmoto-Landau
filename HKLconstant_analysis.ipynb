{
 "cells": [
  {
   "cell_type": "markdown",
   "id": "2d6e5194",
   "metadata": {},
   "source": [
    "# HKL Model with Constant Interaction"
   ]
  },
  {
   "cell_type": "code",
   "execution_count": null,
   "id": "bc28ae61",
   "metadata": {},
   "outputs": [],
   "source": [
    "jit4opjop3"
   ]
  }
 ],
 "metadata": {
  "kernelspec": {
   "display_name": "Python 3",
   "language": "python",
   "name": "python3"
  },
  "language_info": {
   "name": "python",
   "version": "3.12.3"
  }
 },
 "nbformat": 4,
 "nbformat_minor": 5
}
